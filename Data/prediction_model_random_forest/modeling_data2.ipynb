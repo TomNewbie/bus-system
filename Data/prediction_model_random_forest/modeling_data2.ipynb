{
 "cells": [
  {
   "cell_type": "code",
   "execution_count": 9,
   "id": "7c8062ae",
   "metadata": {},
   "outputs": [],
   "source": [
    "import os\n",
    "import statsmodels.api as sm\n",
    "from sklearn.model_selection import train_test_split, cross_val_score, GridSearchCV\n",
    "from sklearn.metrics import mean_absolute_error, accuracy_score\n",
    "from sklearn.linear_model import LinearRegression, Lasso\n",
    "from sklearn.ensemble import RandomForestClassifier\n",
    "import pickle\n",
    "import pandas as pd\n",
    "import matplotlib.pyplot as plt\n",
    "import numpy as np\n",
    "from sklearn.preprocessing import MinMaxScaler\n",
    "from sklearn.impute import SimpleImputer"
   ]
  },
  {
   "cell_type": "code",
   "execution_count": 10,
   "id": "546904a1",
   "metadata": {},
   "outputs": [
    {
     "data": {
      "text/html": [
       "<div>\n",
       "<style scoped>\n",
       "    .dataframe tbody tr th:only-of-type {\n",
       "        vertical-align: middle;\n",
       "    }\n",
       "\n",
       "    .dataframe tbody tr th {\n",
       "        vertical-align: top;\n",
       "    }\n",
       "\n",
       "    .dataframe thead th {\n",
       "        text-align: right;\n",
       "    }\n",
       "</style>\n",
       "<table border=\"1\" class=\"dataframe\">\n",
       "  <thead>\n",
       "    <tr style=\"text-align: right;\">\n",
       "      <th></th>\n",
       "      <th>route_id</th>\n",
       "      <th>window</th>\n",
       "      <th>speed_kmh</th>\n",
       "      <th>avg_route_speed_kmh</th>\n",
       "      <th>segment_max_speed_kmh</th>\n",
       "      <th>runtime_sec</th>\n",
       "      <th>segment_id</th>\n",
       "      <th>start_stop_id</th>\n",
       "      <th>end_stop_id</th>\n",
       "      <th>distance_m</th>\n",
       "      <th>stop_lat</th>\n",
       "      <th>stop_lon</th>\n",
       "      <th>next_lat</th>\n",
       "      <th>next_lon</th>\n",
       "      <th>arrival_time</th>\n",
       "      <th>arrival_hour</th>\n",
       "      <th>arrival_minute</th>\n",
       "      <th>congestion_level</th>\n",
       "    </tr>\n",
       "  </thead>\n",
       "  <tbody>\n",
       "    <tr>\n",
       "      <th>0</th>\n",
       "      <td>100001</td>\n",
       "      <td>0:00-1:00</td>\n",
       "      <td>17.4</td>\n",
       "      <td>28.1</td>\n",
       "      <td>18.0</td>\n",
       "      <td>180.0</td>\n",
       "      <td>1 - 2</td>\n",
       "      <td>1</td>\n",
       "      <td>2</td>\n",
       "      <td>888.766370</td>\n",
       "      <td>50.935705</td>\n",
       "      <td>6.959995</td>\n",
       "      <td>50.935770</td>\n",
       "      <td>6.947677</td>\n",
       "      <td>2023-10-26 09:30:00.000000000</td>\n",
       "      <td>9</td>\n",
       "      <td>30</td>\n",
       "      <td>3</td>\n",
       "    </tr>\n",
       "    <tr>\n",
       "      <th>1</th>\n",
       "      <td>100001</td>\n",
       "      <td>10:00-11:00</td>\n",
       "      <td>17.5</td>\n",
       "      <td>27.9</td>\n",
       "      <td>18.0</td>\n",
       "      <td>180.0</td>\n",
       "      <td>1 - 2</td>\n",
       "      <td>1</td>\n",
       "      <td>2</td>\n",
       "      <td>888.766370</td>\n",
       "      <td>50.935705</td>\n",
       "      <td>6.959995</td>\n",
       "      <td>50.935770</td>\n",
       "      <td>6.947677</td>\n",
       "      <td>2023-10-26 09:33:00.000000000</td>\n",
       "      <td>9</td>\n",
       "      <td>33</td>\n",
       "      <td>3</td>\n",
       "    </tr>\n",
       "    <tr>\n",
       "      <th>2</th>\n",
       "      <td>100001</td>\n",
       "      <td>15:00-16:00</td>\n",
       "      <td>17.6</td>\n",
       "      <td>28.8</td>\n",
       "      <td>18.0</td>\n",
       "      <td>180.0</td>\n",
       "      <td>1 - 2</td>\n",
       "      <td>1</td>\n",
       "      <td>2</td>\n",
       "      <td>888.766370</td>\n",
       "      <td>50.935705</td>\n",
       "      <td>6.959995</td>\n",
       "      <td>50.935770</td>\n",
       "      <td>6.947677</td>\n",
       "      <td>2023-10-26 09:36:00.000000000</td>\n",
       "      <td>9</td>\n",
       "      <td>36</td>\n",
       "      <td>3</td>\n",
       "    </tr>\n",
       "    <tr>\n",
       "      <th>3</th>\n",
       "      <td>100001</td>\n",
       "      <td>20:00-21:00</td>\n",
       "      <td>17.2</td>\n",
       "      <td>29.9</td>\n",
       "      <td>18.0</td>\n",
       "      <td>180.0</td>\n",
       "      <td>1 - 2</td>\n",
       "      <td>1</td>\n",
       "      <td>2</td>\n",
       "      <td>888.766370</td>\n",
       "      <td>50.935705</td>\n",
       "      <td>6.959995</td>\n",
       "      <td>50.935770</td>\n",
       "      <td>6.947677</td>\n",
       "      <td>2023-10-26 09:39:00.000000000</td>\n",
       "      <td>9</td>\n",
       "      <td>39</td>\n",
       "      <td>3</td>\n",
       "    </tr>\n",
       "    <tr>\n",
       "      <th>4</th>\n",
       "      <td>100001</td>\n",
       "      <td>23:00-24:00</td>\n",
       "      <td>16.7</td>\n",
       "      <td>28.8</td>\n",
       "      <td>18.0</td>\n",
       "      <td>180.0</td>\n",
       "      <td>1 - 2</td>\n",
       "      <td>1</td>\n",
       "      <td>2</td>\n",
       "      <td>888.766370</td>\n",
       "      <td>50.935705</td>\n",
       "      <td>6.959995</td>\n",
       "      <td>50.935770</td>\n",
       "      <td>6.947677</td>\n",
       "      <td>2023-10-26 09:42:00.000000000</td>\n",
       "      <td>9</td>\n",
       "      <td>42</td>\n",
       "      <td>3</td>\n",
       "    </tr>\n",
       "    <tr>\n",
       "      <th>...</th>\n",
       "      <td>...</td>\n",
       "      <td>...</td>\n",
       "      <td>...</td>\n",
       "      <td>...</td>\n",
       "      <td>...</td>\n",
       "      <td>...</td>\n",
       "      <td>...</td>\n",
       "      <td>...</td>\n",
       "      <td>...</td>\n",
       "      <td>...</td>\n",
       "      <td>...</td>\n",
       "      <td>...</td>\n",
       "      <td>...</td>\n",
       "      <td>...</td>\n",
       "      <td>...</td>\n",
       "      <td>...</td>\n",
       "      <td>...</td>\n",
       "      <td>...</td>\n",
       "    </tr>\n",
       "    <tr>\n",
       "      <th>50254</th>\n",
       "      <td>100143</td>\n",
       "      <td>5:00-6:00</td>\n",
       "      <td>33.0</td>\n",
       "      <td>20.9</td>\n",
       "      <td>33.0</td>\n",
       "      <td>60.0</td>\n",
       "      <td>996 - 995</td>\n",
       "      <td>996</td>\n",
       "      <td>995</td>\n",
       "      <td>542.162392</td>\n",
       "      <td>50.915465</td>\n",
       "      <td>6.859143</td>\n",
       "      <td>50.913826</td>\n",
       "      <td>6.852173</td>\n",
       "      <td>2023-10-26 20:28:00.000000000</td>\n",
       "      <td>20</td>\n",
       "      <td>28</td>\n",
       "      <td>1</td>\n",
       "    </tr>\n",
       "    <tr>\n",
       "      <th>50255</th>\n",
       "      <td>100136</td>\n",
       "      <td>10:00-11:00</td>\n",
       "      <td>21.0</td>\n",
       "      <td>16.9</td>\n",
       "      <td>21.0</td>\n",
       "      <td>60.0</td>\n",
       "      <td>997 - 252</td>\n",
       "      <td>997</td>\n",
       "      <td>252</td>\n",
       "      <td>344.260910</td>\n",
       "      <td>50.924027</td>\n",
       "      <td>6.869455</td>\n",
       "      <td>50.927072</td>\n",
       "      <td>6.868602</td>\n",
       "      <td>2023-10-26 20:44:00.000000000</td>\n",
       "      <td>20</td>\n",
       "      <td>44</td>\n",
       "      <td>2</td>\n",
       "    </tr>\n",
       "    <tr>\n",
       "      <th>50256</th>\n",
       "      <td>100136</td>\n",
       "      <td>10:00-11:00</td>\n",
       "      <td>21.0</td>\n",
       "      <td>16.9</td>\n",
       "      <td>21.0</td>\n",
       "      <td>60.0</td>\n",
       "      <td>998 - 205</td>\n",
       "      <td>998</td>\n",
       "      <td>205</td>\n",
       "      <td>351.321097</td>\n",
       "      <td>50.925651</td>\n",
       "      <td>6.857808</td>\n",
       "      <td>50.928127</td>\n",
       "      <td>6.854767</td>\n",
       "      <td>2023-10-26 07:44:00.000000000</td>\n",
       "      <td>7</td>\n",
       "      <td>44</td>\n",
       "      <td>2</td>\n",
       "    </tr>\n",
       "    <tr>\n",
       "      <th>50257</th>\n",
       "      <td>100148</td>\n",
       "      <td>0:00-1:00</td>\n",
       "      <td>21.0</td>\n",
       "      <td>21.4</td>\n",
       "      <td>21.0</td>\n",
       "      <td>60.0</td>\n",
       "      <td>998 - 205</td>\n",
       "      <td>998</td>\n",
       "      <td>205</td>\n",
       "      <td>351.321097</td>\n",
       "      <td>50.925651</td>\n",
       "      <td>6.857808</td>\n",
       "      <td>50.928127</td>\n",
       "      <td>6.854767</td>\n",
       "      <td>2023-10-26 07:45:00.000000000</td>\n",
       "      <td>7</td>\n",
       "      <td>45</td>\n",
       "      <td>2</td>\n",
       "    </tr>\n",
       "    <tr>\n",
       "      <th>50258</th>\n",
       "      <td>100143</td>\n",
       "      <td>10:00-11:00</td>\n",
       "      <td>25.0</td>\n",
       "      <td>21.2</td>\n",
       "      <td>25.0</td>\n",
       "      <td>180.0</td>\n",
       "      <td>998 - 235</td>\n",
       "      <td>998</td>\n",
       "      <td>235</td>\n",
       "      <td>1228.254647</td>\n",
       "      <td>50.925651</td>\n",
       "      <td>6.857808</td>\n",
       "      <td>50.917477</td>\n",
       "      <td>6.858227</td>\n",
       "      <td>2023-10-26 07:44:00.000000000</td>\n",
       "      <td>7</td>\n",
       "      <td>44</td>\n",
       "      <td>2</td>\n",
       "    </tr>\n",
       "  </tbody>\n",
       "</table>\n",
       "<p>50259 rows × 18 columns</p>\n",
       "</div>"
      ],
      "text/plain": [
       "       route_id       window  speed_kmh  avg_route_speed_kmh  \\\n",
       "0        100001    0:00-1:00       17.4                 28.1   \n",
       "1        100001  10:00-11:00       17.5                 27.9   \n",
       "2        100001  15:00-16:00       17.6                 28.8   \n",
       "3        100001  20:00-21:00       17.2                 29.9   \n",
       "4        100001  23:00-24:00       16.7                 28.8   \n",
       "...         ...          ...        ...                  ...   \n",
       "50254    100143    5:00-6:00       33.0                 20.9   \n",
       "50255    100136  10:00-11:00       21.0                 16.9   \n",
       "50256    100136  10:00-11:00       21.0                 16.9   \n",
       "50257    100148    0:00-1:00       21.0                 21.4   \n",
       "50258    100143  10:00-11:00       25.0                 21.2   \n",
       "\n",
       "       segment_max_speed_kmh  runtime_sec segment_id  start_stop_id  \\\n",
       "0                       18.0        180.0      1 - 2              1   \n",
       "1                       18.0        180.0      1 - 2              1   \n",
       "2                       18.0        180.0      1 - 2              1   \n",
       "3                       18.0        180.0      1 - 2              1   \n",
       "4                       18.0        180.0      1 - 2              1   \n",
       "...                      ...          ...        ...            ...   \n",
       "50254                   33.0         60.0  996 - 995            996   \n",
       "50255                   21.0         60.0  997 - 252            997   \n",
       "50256                   21.0         60.0  998 - 205            998   \n",
       "50257                   21.0         60.0  998 - 205            998   \n",
       "50258                   25.0        180.0  998 - 235            998   \n",
       "\n",
       "       end_stop_id   distance_m   stop_lat  stop_lon   next_lat  next_lon  \\\n",
       "0                2   888.766370  50.935705  6.959995  50.935770  6.947677   \n",
       "1                2   888.766370  50.935705  6.959995  50.935770  6.947677   \n",
       "2                2   888.766370  50.935705  6.959995  50.935770  6.947677   \n",
       "3                2   888.766370  50.935705  6.959995  50.935770  6.947677   \n",
       "4                2   888.766370  50.935705  6.959995  50.935770  6.947677   \n",
       "...            ...          ...        ...       ...        ...       ...   \n",
       "50254          995   542.162392  50.915465  6.859143  50.913826  6.852173   \n",
       "50255          252   344.260910  50.924027  6.869455  50.927072  6.868602   \n",
       "50256          205   351.321097  50.925651  6.857808  50.928127  6.854767   \n",
       "50257          205   351.321097  50.925651  6.857808  50.928127  6.854767   \n",
       "50258          235  1228.254647  50.925651  6.857808  50.917477  6.858227   \n",
       "\n",
       "                        arrival_time  arrival_hour  arrival_minute  \\\n",
       "0      2023-10-26 09:30:00.000000000             9              30   \n",
       "1      2023-10-26 09:33:00.000000000             9              33   \n",
       "2      2023-10-26 09:36:00.000000000             9              36   \n",
       "3      2023-10-26 09:39:00.000000000             9              39   \n",
       "4      2023-10-26 09:42:00.000000000             9              42   \n",
       "...                              ...           ...             ...   \n",
       "50254  2023-10-26 20:28:00.000000000            20              28   \n",
       "50255  2023-10-26 20:44:00.000000000            20              44   \n",
       "50256  2023-10-26 07:44:00.000000000             7              44   \n",
       "50257  2023-10-26 07:45:00.000000000             7              45   \n",
       "50258  2023-10-26 07:44:00.000000000             7              44   \n",
       "\n",
       "       congestion_level  \n",
       "0                     3  \n",
       "1                     3  \n",
       "2                     3  \n",
       "3                     3  \n",
       "4                     3  \n",
       "...                 ...  \n",
       "50254                 1  \n",
       "50255                 2  \n",
       "50256                 2  \n",
       "50257                 2  \n",
       "50258                 2  \n",
       "\n",
       "[50259 rows x 18 columns]"
      ]
     },
     "execution_count": 10,
     "metadata": {},
     "output_type": "execute_result"
    }
   ],
   "source": [
    "FILE_PATH = os.path.join(\"dataset\", \"clean_data.csv\")\n",
    "df = pd.read_csv(FILE_PATH)\n",
    "\n",
    "df1 = df.head(5000)\n",
    "df"
   ]
  },
  {
   "cell_type": "code",
   "execution_count": 11,
   "id": "c89ab90f",
   "metadata": {},
   "outputs": [
    {
     "data": {
      "text/plain": [
       "Index(['route_id', 'window', 'speed_kmh', 'avg_route_speed_kmh',\n",
       "       'segment_max_speed_kmh', 'runtime_sec', 'segment_id', 'start_stop_id',\n",
       "       'end_stop_id', 'distance_m', 'stop_lat', 'stop_lon', 'next_lat',\n",
       "       'next_lon', 'arrival_time', 'arrival_hour', 'arrival_minute',\n",
       "       'congestion_level'],\n",
       "      dtype='object')"
      ]
     },
     "execution_count": 11,
     "metadata": {},
     "output_type": "execute_result"
    }
   ],
   "source": [
    "df.columns"
   ]
  },
  {
   "cell_type": "code",
   "execution_count": 12,
   "id": "27482a8f",
   "metadata": {},
   "outputs": [],
   "source": [
    "df = df.drop(columns=['window', 'route_id', 'segment_id', 'arrival_time'])"
   ]
  },
  {
   "cell_type": "code",
   "execution_count": 13,
   "id": "a6c09019",
   "metadata": {},
   "outputs": [
    {
     "data": {
      "text/plain": [
       "speed_kmh                0\n",
       "avg_route_speed_kmh      0\n",
       "segment_max_speed_kmh    0\n",
       "runtime_sec              0\n",
       "start_stop_id            0\n",
       "end_stop_id              0\n",
       "distance_m               0\n",
       "stop_lat                 0\n",
       "stop_lon                 0\n",
       "next_lat                 0\n",
       "next_lon                 0\n",
       "arrival_hour             0\n",
       "arrival_minute           0\n",
       "congestion_level         0\n",
       "dtype: int64"
      ]
     },
     "execution_count": 13,
     "metadata": {},
     "output_type": "execute_result"
    }
   ],
   "source": [
    "df.isnull().sum()"
   ]
  },
  {
   "cell_type": "code",
   "execution_count": 14,
   "id": "d1d4c298",
   "metadata": {},
   "outputs": [],
   "source": [
    "y = df['congestion_level']\n",
    "X = df.drop(['congestion_level'], axis=1)"
   ]
  },
  {
   "cell_type": "code",
   "execution_count": 16,
   "id": "f2964986",
   "metadata": {},
   "outputs": [
    {
     "data": {
      "text/plain": [
       "Index(['speed_kmh', 'avg_route_speed_kmh', 'segment_max_speed_kmh',\n",
       "       'runtime_sec', 'start_stop_id', 'end_stop_id', 'distance_m', 'stop_lat',\n",
       "       'stop_lon', 'next_lat', 'next_lon', 'arrival_hour', 'arrival_minute'],\n",
       "      dtype='object')"
      ]
     },
     "execution_count": 16,
     "metadata": {},
     "output_type": "execute_result"
    }
   ],
   "source": [
    "X.columns"
   ]
  },
  {
   "cell_type": "code",
   "execution_count": null,
   "id": "b8c75763",
   "metadata": {},
   "outputs": [],
   "source": [
    "scaler = MinMaxScaler()\n",
    "X = scaler.fit_transform(X)"
   ]
  },
  {
   "cell_type": "code",
   "execution_count": 137,
   "id": "2d6a63ca",
   "metadata": {},
   "outputs": [
    {
     "name": "stdout",
     "output_type": "stream",
     "text": [
      "X : (50259, 13)\n"
     ]
    }
   ],
   "source": [
    "print(f'X : {X.shape}')"
   ]
  },
  {
   "cell_type": "code",
   "execution_count": 138,
   "id": "91b2c80f",
   "metadata": {},
   "outputs": [],
   "source": [
    "X_train, X_test, y_train, y_test = train_test_split(X, y, test_size = 0.2, random_state=42)"
   ]
  },
  {
   "cell_type": "code",
   "execution_count": 139,
   "id": "01603ace",
   "metadata": {},
   "outputs": [
    {
     "name": "stdout",
     "output_type": "stream",
     "text": [
      "X_train : (40207, 13)\n",
      "X_test : (10052, 13)\n",
      "y_train : (40207,)\n",
      "y_test : (10052, 13)\n"
     ]
    }
   ],
   "source": [
    "print(f'X_train : {X_train.shape}')\n",
    "print(f'X_test : {X_test.shape}')\n",
    "print(f'y_train : {y_train.shape}')\n",
    "print(f'y_test : {X_test.shape}')"
   ]
  },
  {
   "cell_type": "code",
   "execution_count": 140,
   "id": "e43dcbb0",
   "metadata": {},
   "outputs": [],
   "source": [
    "# Number of trees in random forest\n",
    "n_estimators = [int(x) for x in np.linspace(start=10, stop=80, num=10)]\n",
    "# Number of features to consider at every split\n",
    "max_features = ['sqrt']\n",
    "# Maximum of level in tree\n",
    "max_depth = [2, 4]\n",
    "# Minimum number of samples required to split a node\n",
    "min_samples_split = [20, 50]\n",
    "# Minimum number of samples required at each leaf node\n",
    "min_samples_leaf = [10, 20]\n",
    "# Method of selecting samples for each training tree\n",
    "bootstrap = [True, False]"
   ]
  },
  {
   "cell_type": "code",
   "execution_count": 141,
   "id": "fb197062",
   "metadata": {},
   "outputs": [
    {
     "name": "stdout",
     "output_type": "stream",
     "text": [
      "{'n_estimators': [10, 17, 25, 33, 41, 48, 56, 64, 72, 80], 'max_features': ['sqrt'], 'max_depth': [2, 4], 'min_samples_split': [20, 50], 'min_samples_leaf': [10, 20], 'bootstrap': [True, False]}\n"
     ]
    }
   ],
   "source": [
    "# Create param grid\n",
    "random_grid = {'n_estimators':n_estimators,\n",
    "             'max_features':max_features,\n",
    "             'max_depth':max_depth,\n",
    "             'min_samples_split':min_samples_split,\n",
    "             'min_samples_leaf':min_samples_leaf,\n",
    "             'bootstrap':bootstrap}\n",
    "print(random_grid)"
   ]
  },
  {
   "cell_type": "code",
   "execution_count": 58,
   "id": "d10fae35",
   "metadata": {},
   "outputs": [],
   "source": [
    "# Define the parameter grid for hyperparameter tuning\n",
    "param_grid = {\n",
    "    'n_estimators': [10, 20, 30],  # Adjust the number of trees\n",
    "    'max_depth': [None, 10, 20],  # Adjust the maximum depth of the trees\n",
    "    'min_samples_split': [2, 5, 10],  # Adjust min samples to split\n",
    "    'min_samples_leaf': [1, 2, 4],  # Adjust min samples in leaf nodes\n",
    "    'max_features': ['sqrt'],  # Consider feature subsets\n",
    "    'bootstrap': [True, False]  # Bootstrapping\n",
    "}"
   ]
  },
  {
   "cell_type": "code",
   "execution_count": 142,
   "id": "80434bf0",
   "metadata": {},
   "outputs": [],
   "source": [
    "model = RandomForestClassifier()"
   ]
  },
  {
   "cell_type": "code",
   "execution_count": 143,
   "id": "5bbc0c2d",
   "metadata": {},
   "outputs": [],
   "source": [
    "rf_grid = GridSearchCV(estimator = model, param_grid = random_grid, cv = 3, verbose = 2, n_jobs = 4)"
   ]
  },
  {
   "cell_type": "code",
   "execution_count": 144,
   "id": "db51b478",
   "metadata": {},
   "outputs": [
    {
     "name": "stdout",
     "output_type": "stream",
     "text": [
      "Fitting 3 folds for each of 160 candidates, totalling 480 fits\n"
     ]
    },
    {
     "data": {
      "text/html": [
       "<style>#sk-container-id-7 {color: black;}#sk-container-id-7 pre{padding: 0;}#sk-container-id-7 div.sk-toggleable {background-color: white;}#sk-container-id-7 label.sk-toggleable__label {cursor: pointer;display: block;width: 100%;margin-bottom: 0;padding: 0.3em;box-sizing: border-box;text-align: center;}#sk-container-id-7 label.sk-toggleable__label-arrow:before {content: \"▸\";float: left;margin-right: 0.25em;color: #696969;}#sk-container-id-7 label.sk-toggleable__label-arrow:hover:before {color: black;}#sk-container-id-7 div.sk-estimator:hover label.sk-toggleable__label-arrow:before {color: black;}#sk-container-id-7 div.sk-toggleable__content {max-height: 0;max-width: 0;overflow: hidden;text-align: left;background-color: #f0f8ff;}#sk-container-id-7 div.sk-toggleable__content pre {margin: 0.2em;color: black;border-radius: 0.25em;background-color: #f0f8ff;}#sk-container-id-7 input.sk-toggleable__control:checked~div.sk-toggleable__content {max-height: 200px;max-width: 100%;overflow: auto;}#sk-container-id-7 input.sk-toggleable__control:checked~label.sk-toggleable__label-arrow:before {content: \"▾\";}#sk-container-id-7 div.sk-estimator input.sk-toggleable__control:checked~label.sk-toggleable__label {background-color: #d4ebff;}#sk-container-id-7 div.sk-label input.sk-toggleable__control:checked~label.sk-toggleable__label {background-color: #d4ebff;}#sk-container-id-7 input.sk-hidden--visually {border: 0;clip: rect(1px 1px 1px 1px);clip: rect(1px, 1px, 1px, 1px);height: 1px;margin: -1px;overflow: hidden;padding: 0;position: absolute;width: 1px;}#sk-container-id-7 div.sk-estimator {font-family: monospace;background-color: #f0f8ff;border: 1px dotted black;border-radius: 0.25em;box-sizing: border-box;margin-bottom: 0.5em;}#sk-container-id-7 div.sk-estimator:hover {background-color: #d4ebff;}#sk-container-id-7 div.sk-parallel-item::after {content: \"\";width: 100%;border-bottom: 1px solid gray;flex-grow: 1;}#sk-container-id-7 div.sk-label:hover label.sk-toggleable__label {background-color: #d4ebff;}#sk-container-id-7 div.sk-serial::before {content: \"\";position: absolute;border-left: 1px solid gray;box-sizing: border-box;top: 0;bottom: 0;left: 50%;z-index: 0;}#sk-container-id-7 div.sk-serial {display: flex;flex-direction: column;align-items: center;background-color: white;padding-right: 0.2em;padding-left: 0.2em;position: relative;}#sk-container-id-7 div.sk-item {position: relative;z-index: 1;}#sk-container-id-7 div.sk-parallel {display: flex;align-items: stretch;justify-content: center;background-color: white;position: relative;}#sk-container-id-7 div.sk-item::before, #sk-container-id-7 div.sk-parallel-item::before {content: \"\";position: absolute;border-left: 1px solid gray;box-sizing: border-box;top: 0;bottom: 0;left: 50%;z-index: -1;}#sk-container-id-7 div.sk-parallel-item {display: flex;flex-direction: column;z-index: 1;position: relative;background-color: white;}#sk-container-id-7 div.sk-parallel-item:first-child::after {align-self: flex-end;width: 50%;}#sk-container-id-7 div.sk-parallel-item:last-child::after {align-self: flex-start;width: 50%;}#sk-container-id-7 div.sk-parallel-item:only-child::after {width: 0;}#sk-container-id-7 div.sk-dashed-wrapped {border: 1px dashed gray;margin: 0 0.4em 0.5em 0.4em;box-sizing: border-box;padding-bottom: 0.4em;background-color: white;}#sk-container-id-7 div.sk-label label {font-family: monospace;font-weight: bold;display: inline-block;line-height: 1.2em;}#sk-container-id-7 div.sk-label-container {text-align: center;}#sk-container-id-7 div.sk-container {/* jupyter's `normalize.less` sets `[hidden] { display: none; }` but bootstrap.min.css set `[hidden] { display: none !important; }` so we also need the `!important` here to be able to override the default hidden behavior on the sphinx rendered scikit-learn.org. See: https://github.com/scikit-learn/scikit-learn/issues/21755 */display: inline-block !important;position: relative;}#sk-container-id-7 div.sk-text-repr-fallback {display: none;}</style><div id=\"sk-container-id-7\" class=\"sk-top-container\"><div class=\"sk-text-repr-fallback\"><pre>GridSearchCV(cv=3, estimator=RandomForestClassifier(), n_jobs=4,\n",
       "             param_grid={&#x27;bootstrap&#x27;: [True, False], &#x27;max_depth&#x27;: [2, 4],\n",
       "                         &#x27;max_features&#x27;: [&#x27;sqrt&#x27;], &#x27;min_samples_leaf&#x27;: [10, 20],\n",
       "                         &#x27;min_samples_split&#x27;: [20, 50],\n",
       "                         &#x27;n_estimators&#x27;: [10, 17, 25, 33, 41, 48, 56, 64, 72,\n",
       "                                          80]},\n",
       "             verbose=2)</pre><b>In a Jupyter environment, please rerun this cell to show the HTML representation or trust the notebook. <br />On GitHub, the HTML representation is unable to render, please try loading this page with nbviewer.org.</b></div><div class=\"sk-container\" hidden><div class=\"sk-item sk-dashed-wrapped\"><div class=\"sk-label-container\"><div class=\"sk-label sk-toggleable\"><input class=\"sk-toggleable__control sk-hidden--visually\" id=\"sk-estimator-id-17\" type=\"checkbox\" ><label for=\"sk-estimator-id-17\" class=\"sk-toggleable__label sk-toggleable__label-arrow\">GridSearchCV</label><div class=\"sk-toggleable__content\"><pre>GridSearchCV(cv=3, estimator=RandomForestClassifier(), n_jobs=4,\n",
       "             param_grid={&#x27;bootstrap&#x27;: [True, False], &#x27;max_depth&#x27;: [2, 4],\n",
       "                         &#x27;max_features&#x27;: [&#x27;sqrt&#x27;], &#x27;min_samples_leaf&#x27;: [10, 20],\n",
       "                         &#x27;min_samples_split&#x27;: [20, 50],\n",
       "                         &#x27;n_estimators&#x27;: [10, 17, 25, 33, 41, 48, 56, 64, 72,\n",
       "                                          80]},\n",
       "             verbose=2)</pre></div></div></div><div class=\"sk-parallel\"><div class=\"sk-parallel-item\"><div class=\"sk-item\"><div class=\"sk-label-container\"><div class=\"sk-label sk-toggleable\"><input class=\"sk-toggleable__control sk-hidden--visually\" id=\"sk-estimator-id-18\" type=\"checkbox\" ><label for=\"sk-estimator-id-18\" class=\"sk-toggleable__label sk-toggleable__label-arrow\">estimator: RandomForestClassifier</label><div class=\"sk-toggleable__content\"><pre>RandomForestClassifier()</pre></div></div></div><div class=\"sk-serial\"><div class=\"sk-item\"><div class=\"sk-estimator sk-toggleable\"><input class=\"sk-toggleable__control sk-hidden--visually\" id=\"sk-estimator-id-19\" type=\"checkbox\" ><label for=\"sk-estimator-id-19\" class=\"sk-toggleable__label sk-toggleable__label-arrow\">RandomForestClassifier</label><div class=\"sk-toggleable__content\"><pre>RandomForestClassifier()</pre></div></div></div></div></div></div></div></div></div></div>"
      ],
      "text/plain": [
       "GridSearchCV(cv=3, estimator=RandomForestClassifier(), n_jobs=4,\n",
       "             param_grid={'bootstrap': [True, False], 'max_depth': [2, 4],\n",
       "                         'max_features': ['sqrt'], 'min_samples_leaf': [10, 20],\n",
       "                         'min_samples_split': [20, 50],\n",
       "                         'n_estimators': [10, 17, 25, 33, 41, 48, 56, 64, 72,\n",
       "                                          80]},\n",
       "             verbose=2)"
      ]
     },
     "execution_count": 144,
     "metadata": {},
     "output_type": "execute_result"
    }
   ],
   "source": [
    "rf_grid.fit(X_train, y_train)"
   ]
  },
  {
   "cell_type": "code",
   "execution_count": 145,
   "id": "a1cdfbc3",
   "metadata": {},
   "outputs": [
    {
     "data": {
      "text/plain": [
       "{'bootstrap': True,\n",
       " 'max_depth': 4,\n",
       " 'max_features': 'sqrt',\n",
       " 'min_samples_leaf': 20,\n",
       " 'min_samples_split': 20,\n",
       " 'n_estimators': 64}"
      ]
     },
     "execution_count": 145,
     "metadata": {},
     "output_type": "execute_result"
    }
   ],
   "source": [
    "rf_grid.best_params_"
   ]
  },
  {
   "cell_type": "code",
   "execution_count": 146,
   "id": "34544698",
   "metadata": {},
   "outputs": [
    {
     "name": "stdout",
     "output_type": "stream",
     "text": [
      "Train Accuracy - : 0.956177\n",
      "Test Accuracy - : 0.953940\n"
     ]
    }
   ],
   "source": [
    "# Make predictions on the training set\n",
    "y_train_pred = rf_grid.predict(X_train)\n",
    "\n",
    "# Make predictions on the validation/test set\n",
    "y_test_pred = rf_grid.predict(X_test)\n",
    "\n",
    "# Calculate the accuracy on the training and validation/test sets\n",
    "train_accuracy = accuracy_score(y_train, y_train_pred)\n",
    "val_accuracy = accuracy_score(y_test, y_test_pred)\n",
    "print(f'Train Accuracy - : {train_accuracy:f}')\n",
    "print(f'Test Accuracy - : {val_accuracy:f}')"
   ]
  },
  {
   "cell_type": "code",
   "execution_count": 147,
   "id": "5a68527a",
   "metadata": {},
   "outputs": [
    {
     "name": "stdout",
     "output_type": "stream",
     "text": [
      "MAE (Random Forest): 0.04745324313569439\n",
      "Accuracy Score: 0.9539395145244728\n"
     ]
    }
   ],
   "source": [
    "rf_preds = rf_grid.predict(X_test)\n",
    "print(\"MAE (Random Forest): \" + str(mean_absolute_error(y_test, rf_preds)))\n",
    "acc_score = accuracy_score(y_test, rf_preds)\n",
    "print(\"Accuracy Score: \" + str(acc_score))"
   ]
  },
  {
   "cell_type": "code",
   "execution_count": 149,
   "id": "94ab1f9d",
   "metadata": {},
   "outputs": [],
   "source": [
    "model_filename = 'model_file.p'\n",
    "model_path = os.path.join('Random_forest_saved_model', model_filename)\n",
    "\n",
    "# Save the model to the specified path\n",
    "with open(model_path, 'wb') as model_file:\n",
    "    pickle.dump(rf_grid, model_file)"
   ]
  },
  {
   "cell_type": "code",
   "execution_count": 124,
   "id": "5e6d7d2b",
   "metadata": {},
   "outputs": [],
   "source": [
    "y1 = df['congestion_level']\n",
    "X1 = df.drop(['congestion_level'], axis=1)"
   ]
  },
  {
   "cell_type": "code",
   "execution_count": 150,
   "id": "729f4675",
   "metadata": {},
   "outputs": [],
   "source": [
    "from sklearn.model_selection import KFold\n",
    "import matplotlib.pyplot as plt\n",
    "def test_model(model, X, y):\n",
    "    kf = KFold(n_splits=4)\n",
    "    mae_train = []\n",
    "    mae_test = []\n",
    "    for train_index, test_index in kf.split(X):\n",
    "    \n",
    "        X_train, X_test = X.iloc[train_index], X.iloc[test_index]\n",
    "        y_train, y_test = y[train_index], y[test_index]\n",
    "        \n",
    "        model.fit(X_train, y_train)\n",
    "        y_train_pred = model.predict(X_train)\n",
    "        y_test_pred = model.predict(X_test)\n",
    "        mae_train.append(mean_absolute_error(y_train, y_train_pred))\n",
    "        mae_test.append(mean_absolute_error(y_test, y_test_pred))\n",
    "\n",
    "    folds = range(1, kf.get_n_splits() + 1)\n",
    "    plt.plot(folds, mae_train, 'o-', color='green', label='train')\n",
    "    plt.plot(folds, mae_test, 'o-', color='red', label='test')\n",
    "    plt.legend()\n",
    "    plt.grid()\n",
    "    plt.xlabel('Number of fold')\n",
    "    plt.ylabel('Mean Absolute Error')\n",
    "    plt.show()"
   ]
  },
  {
   "cell_type": "code",
   "execution_count": 151,
   "id": "2fc51181",
   "metadata": {},
   "outputs": [
    {
     "name": "stdout",
     "output_type": "stream",
     "text": [
      "Fitting 3 folds for each of 160 candidates, totalling 480 fits\n",
      "Fitting 3 folds for each of 160 candidates, totalling 480 fits\n",
      "Fitting 3 folds for each of 160 candidates, totalling 480 fits\n",
      "Fitting 3 folds for each of 160 candidates, totalling 480 fits\n"
     ]
    },
    {
     "data": {
      "image/png": "[encoded data removed]",
      "text/plain": [
       "<Figure size 640x480 with 1 Axes>"
      ]
     },
     "metadata": {},
     "output_type": "display_data"
    }
   ],
   "source": [
    "test_model(rf_grid, X1,y1)"
   ]
  },
  {
   "cell_type": "code",
   "execution_count": 126,
   "id": "b7cb94b9",
   "metadata": {},
   "outputs": [],
   "source": [
    "from sklearn.metrics import classification_report, accuracy_score, mean_absolute_error\n",
    "def generate_model_report(model, X_train, y_train, X_test, y_test):\n",
    "    # Train the model\n",
    "    model.fit(X_train, y_train)\n",
    "    \n",
    "    # Make predictions on the training and testing data\n",
    "    y_train_pred = model.predict(X_train)\n",
    "    y_test_pred = model.predict(X_test)\n",
    "\n",
    "    # Calculate accuracy scores\n",
    "    train_accuracy = accuracy_score(y_train, y_train_pred)\n",
    "    test_accuracy = accuracy_score(y_test, y_test_pred)\n",
    "\n",
    "    # Calculate MAE\n",
    "    train_mae = mean_absolute_error(y_train, y_train_pred)\n",
    "    test_mae = mean_absolute_error(y_test, y_test_pred)\n",
    "\n",
    "    # Generate classification report for classification models\n",
    "    if hasattr(model, 'predict_proba'):\n",
    "        y_train_pred_proba = model.predict_proba(X_train)\n",
    "        y_test_pred_proba = model.predict_proba(X_test)\n",
    "    else:\n",
    "        y_train_pred_proba = None\n",
    "        y_test_pred_proba = None\n",
    "\n",
    "    # Classification report for classification models\n",
    "    if y_train_pred_proba is not None:\n",
    "        class_names = list(map(str, model.classes_))\n",
    "        train_classification_report = classification_report(y_train, y_train_pred, target_names=class_names)\n",
    "        test_classification_report = classification_report(y_test, y_test_pred, target_names=class_names)\n",
    "    else:\n",
    "        train_classification_report = None\n",
    "        test_classification_report = None\n",
    "\n",
    "    # Display the model performance metrics\n",
    "    print(\"Train Accuracy: {:.4f}\".format(train_accuracy))\n",
    "    print(\"Test Accuracy: {:.4f}\".format(test_accuracy))\n",
    "    print(\"Train MAE: {:.4f}\".format(train_mae))\n",
    "    print(\"Test MAE: {:.4f}\".format(test_mae))\n",
    "    \n",
    "    # Display classification report for classification models\n",
    "    if train_classification_report:\n",
    "        print(\"Classification Report (Training Data):\\n\", train_classification_report)\n",
    "        print(\"Classification Report (Testing Data):\\n\", test_classification_report)"
   ]
  },
  {
   "cell_type": "code",
   "execution_count": 127,
   "id": "0742ac14",
   "metadata": {},
   "outputs": [
    {
     "name": "stdout",
     "output_type": "stream",
     "text": [
      "Fitting 3 folds for each of 160 candidates, totalling 480 fits\n",
      "Train Accuracy: 0.9619\n",
      "Test Accuracy: 0.9607\n",
      "Train MAE: 0.0383\n",
      "Test MAE: 0.0398\n",
      "Classification Report (Training Data):\n",
      "               precision    recall  f1-score   support\n",
      "\n",
      "           0       0.99      0.97      0.98      4460\n",
      "           1       0.98      0.91      0.94      5744\n",
      "           2       0.97      0.96      0.96     13473\n",
      "           3       0.92      0.98      0.95      8269\n",
      "           4       0.98      0.98      0.98      8261\n",
      "\n",
      "    accuracy                           0.96     40207\n",
      "   macro avg       0.97      0.96      0.96     40207\n",
      "weighted avg       0.96      0.96      0.96     40207\n",
      "\n",
      "Classification Report (Testing Data):\n",
      "               precision    recall  f1-score   support\n",
      "\n",
      "           0       0.98      0.97      0.98      1135\n",
      "           1       0.97      0.91      0.94      1414\n",
      "           2       0.97      0.96      0.96      3402\n",
      "           3       0.92      0.98      0.95      2064\n",
      "           4       0.98      0.97      0.98      2037\n",
      "\n",
      "    accuracy                           0.96     10052\n",
      "   macro avg       0.96      0.96      0.96     10052\n",
      "weighted avg       0.96      0.96      0.96     10052\n",
      "\n"
     ]
    },
    {
     "data": {
      "image/png": "[encoded data removed]",
      "text/plain": [
       "<Figure size 800x400 with 1 Axes>"
      ]
     },
     "metadata": {},
     "output_type": "display_data"
    }
   ],
   "source": [
    "generate_model_report(rf_grid, X_train, y_train, X_test, y_test)"
   ]
  },
  {
   "cell_type": "code",
   "execution_count": null,
   "id": "ea91512d",
   "metadata": {},
   "outputs": [],
   "source": []
  }
 ],
 "metadata": {
  "kernelspec": {
   "display_name": "Python 3 (ipykernel)",
   "language": "python",
   "name": "python3"
  },
  "language_info": {
   "codemirror_mode": {
    "name": "ipython",
    "version": 3
   },
   "file_extension": ".py",
   "mimetype": "text/x-python",
   "name": "python",
   "nbconvert_exporter": "python",
   "pygments_lexer": "ipython3",
   "version": "3.10.2"
  }
 },
 "nbformat": 4,
 "nbformat_minor": 5
}

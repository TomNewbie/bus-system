{
 "cells": [
  {
   "cell_type": "code",
   "execution_count": 3,
   "id": "7c8062ae",
   "metadata": {},
   "outputs": [],
   "source": [
    "import os\n",
    "import statsmodels.api as sm\n",
    "from sklearn.model_selection import train_test_split, cross_val_score, GridSearchCV\n",
    "from sklearn.metrics import mean_absolute_error, accuracy_score\n",
    "from sklearn.linear_model import LinearRegression, Lasso\n",
    "from sklearn.ensemble import RandomForestClassifier\n",
    "import pickle\n",
    "import pandas as pd\n",
    "import matplotlib.pyplot as plt\n",
    "import numpy as np\n",
    "from sklearn.preprocessing import MinMaxScaler\n",
    "from sklearn.impute import SimpleImputer"
   ]
  },
  {
   "cell_type": "code",
   "execution_count": 8,
   "id": "546904a1",
   "metadata": {},
   "outputs": [
    {
     "data": {
      "text/html": [
       "<div>\n",
       "<style scoped>\n",
       "    .dataframe tbody tr th:only-of-type {\n",
       "        vertical-align: middle;\n",
       "    }\n",
       "\n",
       "    .dataframe tbody tr th {\n",
       "        vertical-align: top;\n",
       "    }\n",
       "\n",
       "    .dataframe thead th {\n",
       "        text-align: right;\n",
       "    }\n",
       "</style>\n",
       "<table border=\"1\" class=\"dataframe\">\n",
       "  <thead>\n",
       "    <tr style=\"text-align: right;\">\n",
       "      <th></th>\n",
       "      <th>trip_id</th>\n",
       "      <th>start_stop_id</th>\n",
       "      <th>arrival_time</th>\n",
       "      <th>arrival_hour</th>\n",
       "      <th>arrival_minute</th>\n",
       "      <th>stop_sequence_x</th>\n",
       "      <th>stop_lat</th>\n",
       "      <th>stop_lon</th>\n",
       "      <th>route_id</th>\n",
       "      <th>direction_id</th>\n",
       "      <th>speed_kmh</th>\n",
       "      <th>segment_max_speed_kmh</th>\n",
       "      <th>runtime_sec</th>\n",
       "      <th>end_stop_id</th>\n",
       "      <th>distance_m</th>\n",
       "      <th>next_lat</th>\n",
       "      <th>next_lon</th>\n",
       "      <th>congestion_level</th>\n",
       "    </tr>\n",
       "  </thead>\n",
       "  <tbody>\n",
       "    <tr>\n",
       "      <th>0</th>\n",
       "      <td>239-501-008-1077.2.21:231800-40-163_C4D1C647-B...</td>\n",
       "      <td>2071</td>\n",
       "      <td>1899-12-31 19:03:30.000000000</td>\n",
       "      <td>19</td>\n",
       "      <td>3</td>\n",
       "      <td>27</td>\n",
       "      <td>50.813915</td>\n",
       "      <td>7.150895</td>\n",
       "      <td>800501</td>\n",
       "      <td>1</td>\n",
       "      <td>8.0</td>\n",
       "      <td>32.0</td>\n",
       "      <td>240.0</td>\n",
       "      <td>2664</td>\n",
       "      <td>564.754925</td>\n",
       "      <td>50.813915</td>\n",
       "      <td>7.150895</td>\n",
       "      <td>4</td>\n",
       "    </tr>\n",
       "    <tr>\n",
       "      <th>1</th>\n",
       "      <td>214018-214-003-5228.2.30:240000-13-63_1E4738C6...</td>\n",
       "      <td>5228</td>\n",
       "      <td>1900-01-01 00:00:00.000000000</td>\n",
       "      <td>0</td>\n",
       "      <td>0</td>\n",
       "      <td>1</td>\n",
       "      <td>51.031508</td>\n",
       "      <td>6.991655</td>\n",
       "      <td>300214</td>\n",
       "      <td>1</td>\n",
       "      <td>35.0</td>\n",
       "      <td>35.0</td>\n",
       "      <td>60.0</td>\n",
       "      <td>3030</td>\n",
       "      <td>580.498645</td>\n",
       "      <td>51.032293</td>\n",
       "      <td>6.996590</td>\n",
       "      <td>1</td>\n",
       "    </tr>\n",
       "    <tr>\n",
       "      <th>2</th>\n",
       "      <td>37-801-013-6058.2.22:233600-22-1_06E3FE31-6272...</td>\n",
       "      <td>6140</td>\n",
       "      <td>1900-01-01 00:00:00.000000000</td>\n",
       "      <td>0</td>\n",
       "      <td>0</td>\n",
       "      <td>15</td>\n",
       "      <td>50.597670</td>\n",
       "      <td>6.786604</td>\n",
       "      <td>1300801</td>\n",
       "      <td>0</td>\n",
       "      <td>28.0</td>\n",
       "      <td>28.0</td>\n",
       "      <td>120.0</td>\n",
       "      <td>6139</td>\n",
       "      <td>944.296236</td>\n",
       "      <td>50.597332</td>\n",
       "      <td>6.773887</td>\n",
       "      <td>2</td>\n",
       "    </tr>\n",
       "    <tr>\n",
       "      <th>3</th>\n",
       "      <td>1033-800-012-687.2.29:232000-26-1_0288161C-A12...</td>\n",
       "      <td>6038</td>\n",
       "      <td>1900-01-01 00:00:00.000000000</td>\n",
       "      <td>0</td>\n",
       "      <td>0</td>\n",
       "      <td>24</td>\n",
       "      <td>50.626154</td>\n",
       "      <td>6.953136</td>\n",
       "      <td>1200800</td>\n",
       "      <td>1</td>\n",
       "      <td>30.0</td>\n",
       "      <td>30.0</td>\n",
       "      <td>120.0</td>\n",
       "      <td>7113</td>\n",
       "      <td>993.415545</td>\n",
       "      <td>50.629212</td>\n",
       "      <td>6.947502</td>\n",
       "      <td>2</td>\n",
       "    </tr>\n",
       "    <tr>\n",
       "      <th>4</th>\n",
       "      <td>1033-800-012-687.2.29:232000-26-1_0288161C-A12...</td>\n",
       "      <td>6038</td>\n",
       "      <td>1900-01-01 00:00:00.000000000</td>\n",
       "      <td>0</td>\n",
       "      <td>0</td>\n",
       "      <td>24</td>\n",
       "      <td>50.626154</td>\n",
       "      <td>6.953136</td>\n",
       "      <td>1200800</td>\n",
       "      <td>0</td>\n",
       "      <td>14.0</td>\n",
       "      <td>14.0</td>\n",
       "      <td>120.0</td>\n",
       "      <td>2823</td>\n",
       "      <td>460.017347</td>\n",
       "      <td>50.627001</td>\n",
       "      <td>6.948476</td>\n",
       "      <td>4</td>\n",
       "    </tr>\n",
       "    <tr>\n",
       "      <th>...</th>\n",
       "      <td>...</td>\n",
       "      <td>...</td>\n",
       "      <td>...</td>\n",
       "      <td>...</td>\n",
       "      <td>...</td>\n",
       "      <td>...</td>\n",
       "      <td>...</td>\n",
       "      <td>...</td>\n",
       "      <td>...</td>\n",
       "      <td>...</td>\n",
       "      <td>...</td>\n",
       "      <td>...</td>\n",
       "      <td>...</td>\n",
       "      <td>...</td>\n",
       "      <td>...</td>\n",
       "      <td>...</td>\n",
       "      <td>...</td>\n",
       "      <td>...</td>\n",
       "    </tr>\n",
       "    <tr>\n",
       "      <th>15837</th>\n",
       "      <td>724088-24-003-8658.2.24:213900-26-188_6476DBC3...</td>\n",
       "      <td>3439</td>\n",
       "      <td>1900-01-01 22:02:59.849624060</td>\n",
       "      <td>22</td>\n",
       "      <td>2</td>\n",
       "      <td>20</td>\n",
       "      <td>51.074882</td>\n",
       "      <td>7.027827</td>\n",
       "      <td>300024</td>\n",
       "      <td>1</td>\n",
       "      <td>35.0</td>\n",
       "      <td>35.0</td>\n",
       "      <td>60.0</td>\n",
       "      <td>3438</td>\n",
       "      <td>581.458670</td>\n",
       "      <td>51.072339</td>\n",
       "      <td>7.020593</td>\n",
       "      <td>1</td>\n",
       "    </tr>\n",
       "    <tr>\n",
       "      <th>15838</th>\n",
       "      <td>724088-24-003-8658.2.24:213900-26-188_6476DBC3...</td>\n",
       "      <td>3440</td>\n",
       "      <td>1900-01-01 22:03:16.818181816</td>\n",
       "      <td>22</td>\n",
       "      <td>3</td>\n",
       "      <td>19</td>\n",
       "      <td>51.077904</td>\n",
       "      <td>7.034715</td>\n",
       "      <td>300024</td>\n",
       "      <td>0</td>\n",
       "      <td>40.0</td>\n",
       "      <td>40.0</td>\n",
       "      <td>60.0</td>\n",
       "      <td>3523</td>\n",
       "      <td>662.374525</td>\n",
       "      <td>51.074882</td>\n",
       "      <td>7.027827</td>\n",
       "      <td>1</td>\n",
       "    </tr>\n",
       "    <tr>\n",
       "      <th>15839</th>\n",
       "      <td>724088-24-003-8658.2.24:213900-26-188_6476DBC3...</td>\n",
       "      <td>3438</td>\n",
       "      <td>1900-01-01 22:03:59.849624060</td>\n",
       "      <td>22</td>\n",
       "      <td>3</td>\n",
       "      <td>21</td>\n",
       "      <td>51.072339</td>\n",
       "      <td>7.020593</td>\n",
       "      <td>300024</td>\n",
       "      <td>1</td>\n",
       "      <td>28.8</td>\n",
       "      <td>48.0</td>\n",
       "      <td>108.0</td>\n",
       "      <td>7670</td>\n",
       "      <td>791.679818</td>\n",
       "      <td>51.072339</td>\n",
       "      <td>7.020593</td>\n",
       "      <td>1</td>\n",
       "    </tr>\n",
       "    <tr>\n",
       "      <th>15840</th>\n",
       "      <td>724088-24-003-8658.2.24:213900-26-188_6476DBC3...</td>\n",
       "      <td>3439</td>\n",
       "      <td>1900-01-01 22:04:16.818181816</td>\n",
       "      <td>22</td>\n",
       "      <td>4</td>\n",
       "      <td>20</td>\n",
       "      <td>51.074882</td>\n",
       "      <td>7.027827</td>\n",
       "      <td>300024</td>\n",
       "      <td>0</td>\n",
       "      <td>35.0</td>\n",
       "      <td>36.0</td>\n",
       "      <td>60.0</td>\n",
       "      <td>3440</td>\n",
       "      <td>590.358060</td>\n",
       "      <td>51.072339</td>\n",
       "      <td>7.020593</td>\n",
       "      <td>1</td>\n",
       "    </tr>\n",
       "    <tr>\n",
       "      <th>15841</th>\n",
       "      <td>724088-24-003-8658.2.24:213900-26-188_6476DBC3...</td>\n",
       "      <td>3438</td>\n",
       "      <td>1900-01-01 22:05:16.818181816</td>\n",
       "      <td>22</td>\n",
       "      <td>5</td>\n",
       "      <td>21</td>\n",
       "      <td>51.072339</td>\n",
       "      <td>7.020593</td>\n",
       "      <td>300024</td>\n",
       "      <td>0</td>\n",
       "      <td>35.0</td>\n",
       "      <td>35.0</td>\n",
       "      <td>60.0</td>\n",
       "      <td>3439</td>\n",
       "      <td>581.458670</td>\n",
       "      <td>51.072339</td>\n",
       "      <td>7.020593</td>\n",
       "      <td>1</td>\n",
       "    </tr>\n",
       "  </tbody>\n",
       "</table>\n",
       "<p>15842 rows × 18 columns</p>\n",
       "</div>"
      ],
      "text/plain": [
       "                                                 trip_id  start_stop_id  \\\n",
       "0      239-501-008-1077.2.21:231800-40-163_C4D1C647-B...           2071   \n",
       "1      214018-214-003-5228.2.30:240000-13-63_1E4738C6...           5228   \n",
       "2      37-801-013-6058.2.22:233600-22-1_06E3FE31-6272...           6140   \n",
       "3      1033-800-012-687.2.29:232000-26-1_0288161C-A12...           6038   \n",
       "4      1033-800-012-687.2.29:232000-26-1_0288161C-A12...           6038   \n",
       "...                                                  ...            ...   \n",
       "15837  724088-24-003-8658.2.24:213900-26-188_6476DBC3...           3439   \n",
       "15838  724088-24-003-8658.2.24:213900-26-188_6476DBC3...           3440   \n",
       "15839  724088-24-003-8658.2.24:213900-26-188_6476DBC3...           3438   \n",
       "15840  724088-24-003-8658.2.24:213900-26-188_6476DBC3...           3439   \n",
       "15841  724088-24-003-8658.2.24:213900-26-188_6476DBC3...           3438   \n",
       "\n",
       "                        arrival_time  arrival_hour  arrival_minute  \\\n",
       "0      1899-12-31 19:03:30.000000000            19               3   \n",
       "1      1900-01-01 00:00:00.000000000             0               0   \n",
       "2      1900-01-01 00:00:00.000000000             0               0   \n",
       "3      1900-01-01 00:00:00.000000000             0               0   \n",
       "4      1900-01-01 00:00:00.000000000             0               0   \n",
       "...                              ...           ...             ...   \n",
       "15837  1900-01-01 22:02:59.849624060            22               2   \n",
       "15838  1900-01-01 22:03:16.818181816            22               3   \n",
       "15839  1900-01-01 22:03:59.849624060            22               3   \n",
       "15840  1900-01-01 22:04:16.818181816            22               4   \n",
       "15841  1900-01-01 22:05:16.818181816            22               5   \n",
       "\n",
       "       stop_sequence_x   stop_lat  stop_lon  route_id  direction_id  \\\n",
       "0                   27  50.813915  7.150895    800501             1   \n",
       "1                    1  51.031508  6.991655    300214             1   \n",
       "2                   15  50.597670  6.786604   1300801             0   \n",
       "3                   24  50.626154  6.953136   1200800             1   \n",
       "4                   24  50.626154  6.953136   1200800             0   \n",
       "...                ...        ...       ...       ...           ...   \n",
       "15837               20  51.074882  7.027827    300024             1   \n",
       "15838               19  51.077904  7.034715    300024             0   \n",
       "15839               21  51.072339  7.020593    300024             1   \n",
       "15840               20  51.074882  7.027827    300024             0   \n",
       "15841               21  51.072339  7.020593    300024             0   \n",
       "\n",
       "       speed_kmh  segment_max_speed_kmh  runtime_sec  end_stop_id  distance_m  \\\n",
       "0            8.0                   32.0        240.0         2664  564.754925   \n",
       "1           35.0                   35.0         60.0         3030  580.498645   \n",
       "2           28.0                   28.0        120.0         6139  944.296236   \n",
       "3           30.0                   30.0        120.0         7113  993.415545   \n",
       "4           14.0                   14.0        120.0         2823  460.017347   \n",
       "...          ...                    ...          ...          ...         ...   \n",
       "15837       35.0                   35.0         60.0         3438  581.458670   \n",
       "15838       40.0                   40.0         60.0         3523  662.374525   \n",
       "15839       28.8                   48.0        108.0         7670  791.679818   \n",
       "15840       35.0                   36.0         60.0         3440  590.358060   \n",
       "15841       35.0                   35.0         60.0         3439  581.458670   \n",
       "\n",
       "        next_lat  next_lon  congestion_level  \n",
       "0      50.813915  7.150895                 4  \n",
       "1      51.032293  6.996590                 1  \n",
       "2      50.597332  6.773887                 2  \n",
       "3      50.629212  6.947502                 2  \n",
       "4      50.627001  6.948476                 4  \n",
       "...          ...       ...               ...  \n",
       "15837  51.072339  7.020593                 1  \n",
       "15838  51.074882  7.027827                 1  \n",
       "15839  51.072339  7.020593                 1  \n",
       "15840  51.072339  7.020593                 1  \n",
       "15841  51.072339  7.020593                 1  \n",
       "\n",
       "[15842 rows x 18 columns]"
      ]
     },
     "execution_count": 8,
     "metadata": {},
     "output_type": "execute_result"
    }
   ],
   "source": [
    "FILE_PATH = os.path.join(\"dataset\", \"pre_processed_data.csv\")\n",
    "df = pd.read_csv(FILE_PATH)\n",
    "\n",
    "df1 = df.head(5000)\n",
    "df"
   ]
  },
  {
   "cell_type": "code",
   "execution_count": 9,
   "id": "c89ab90f",
   "metadata": {},
   "outputs": [
    {
     "data": {
      "text/plain": [
       "Index(['trip_id', 'start_stop_id', 'arrival_time', 'arrival_hour',\n",
       "       'arrival_minute', 'stop_sequence_x', 'stop_lat', 'stop_lon', 'route_id',\n",
       "       'direction_id', 'speed_kmh', 'segment_max_speed_kmh', 'runtime_sec',\n",
       "       'end_stop_id', 'distance_m', 'next_lat', 'next_lon',\n",
       "       'congestion_level'],\n",
       "      dtype='object')"
      ]
     },
     "execution_count": 9,
     "metadata": {},
     "output_type": "execute_result"
    }
   ],
   "source": [
    "df.columns"
   ]
  },
  {
   "cell_type": "code",
   "execution_count": 10,
   "id": "a6c09019",
   "metadata": {},
   "outputs": [
    {
     "data": {
      "text/plain": [
       "trip_id                  0\n",
       "start_stop_id            0\n",
       "arrival_time             0\n",
       "arrival_hour             0\n",
       "arrival_minute           0\n",
       "stop_sequence_x          0\n",
       "stop_lat                 0\n",
       "stop_lon                 0\n",
       "route_id                 0\n",
       "direction_id             0\n",
       "speed_kmh                0\n",
       "segment_max_speed_kmh    0\n",
       "runtime_sec              0\n",
       "end_stop_id              0\n",
       "distance_m               0\n",
       "next_lat                 0\n",
       "next_lon                 0\n",
       "congestion_level         0\n",
       "dtype: int64"
      ]
     },
     "execution_count": 10,
     "metadata": {},
     "output_type": "execute_result"
    }
   ],
   "source": [
    "df.isnull().sum()"
   ]
  },
  {
   "cell_type": "code",
   "execution_count": 12,
   "id": "d1d4c298",
   "metadata": {},
   "outputs": [],
   "source": [
    "y = df['congestion_level']\n",
    "X = df[['arrival_hour', 'arrival_minute', 'stop_lat', 'stop_lon', 'next_lat', 'next_lon', 'direction_id']]"
   ]
  },
  {
   "cell_type": "code",
   "execution_count": 13,
   "id": "f2964986",
   "metadata": {},
   "outputs": [
    {
     "data": {
      "text/plain": [
       "Index(['arrival_hour', 'arrival_minute', 'stop_lat', 'stop_lon', 'next_lat',\n",
       "       'next_lon', 'direction_id'],\n",
       "      dtype='object')"
      ]
     },
     "execution_count": 13,
     "metadata": {},
     "output_type": "execute_result"
    }
   ],
   "source": [
    "X.columns"
   ]
  },
  {
   "cell_type": "code",
   "execution_count": 14,
   "id": "b8c75763",
   "metadata": {},
   "outputs": [],
   "source": [
    "scaler = MinMaxScaler()\n",
    "X = scaler.fit_transform(X)"
   ]
  },
  {
   "cell_type": "code",
   "execution_count": 15,
   "id": "2d6a63ca",
   "metadata": {},
   "outputs": [
    {
     "name": "stdout",
     "output_type": "stream",
     "text": [
      "X : (15842, 7)\n"
     ]
    }
   ],
   "source": [
    "print(f'X : {X.shape}')"
   ]
  },
  {
   "cell_type": "code",
   "execution_count": 16,
   "id": "91b2c80f",
   "metadata": {},
   "outputs": [],
   "source": [
    "X_train, X_test, y_train, y_test = train_test_split(X, y, test_size = 0.2, random_state=42)"
   ]
  },
  {
   "cell_type": "code",
   "execution_count": 17,
   "id": "01603ace",
   "metadata": {},
   "outputs": [
    {
     "name": "stdout",
     "output_type": "stream",
     "text": [
      "X_train : (12673, 7)\n",
      "X_test : (3169, 7)\n",
      "y_train : (12673,)\n",
      "y_test : (3169, 7)\n"
     ]
    }
   ],
   "source": [
    "print(f'X_train : {X_train.shape}')\n",
    "print(f'X_test : {X_test.shape}')\n",
    "print(f'y_train : {y_train.shape}')\n",
    "print(f'y_test : {X_test.shape}')"
   ]
  },
  {
   "cell_type": "code",
   "execution_count": 18,
   "id": "e43dcbb0",
   "metadata": {},
   "outputs": [],
   "source": [
    "# Number of trees in random forest\n",
    "n_estimators = [int(x) for x in np.linspace(start=10, stop=80, num=10)]\n",
    "# Number of features to consider at every split\n",
    "max_features = ['sqrt']\n",
    "# Maximum of level in tree\n",
    "max_depth = [2, 4]\n",
    "# Minimum number of samples required to split a node\n",
    "min_samples_split = [20, 50]\n",
    "# Minimum number of samples required at each leaf node\n",
    "min_samples_leaf = [10, 20]\n",
    "# Method of selecting samples for each training tree\n",
    "bootstrap = [True, False]"
   ]
  },
  {
   "cell_type": "code",
   "execution_count": 19,
   "id": "fb197062",
   "metadata": {},
   "outputs": [
    {
     "name": "stdout",
     "output_type": "stream",
     "text": [
      "{'n_estimators': [10, 17, 25, 33, 41, 48, 56, 64, 72, 80], 'max_features': ['sqrt'], 'max_depth': [2, 4], 'min_samples_split': [20, 50], 'min_samples_leaf': [10, 20], 'bootstrap': [True, False]}\n"
     ]
    }
   ],
   "source": [
    "# Create param grid\n",
    "random_grid = {'n_estimators':n_estimators,\n",
    "             'max_features':max_features,\n",
    "             'max_depth':max_depth,\n",
    "             'min_samples_split':min_samples_split,\n",
    "             'min_samples_leaf':min_samples_leaf,\n",
    "             'bootstrap':bootstrap}\n",
    "print(random_grid)"
   ]
  },
  {
   "cell_type": "code",
   "execution_count": 20,
   "id": "d10fae35",
   "metadata": {},
   "outputs": [],
   "source": [
    "# Define the parameter grid for hyperparameter tuning\n",
    "param_grid = {\n",
    "    'n_estimators': [10, 20, 30],  # Adjust the number of trees\n",
    "    'max_depth': [None, 10, 20],  # Adjust the maximum depth of the trees\n",
    "    'min_samples_split': [2, 5, 10],  # Adjust min samples to split\n",
    "    'min_samples_leaf': [1, 2, 4],  # Adjust min samples in leaf nodes\n",
    "    'max_features': ['sqrt'],  # Consider feature subsets\n",
    "    'bootstrap': [True, False]  # Bootstrapping\n",
    "}"
   ]
  },
  {
   "cell_type": "code",
   "execution_count": 21,
   "id": "80434bf0",
   "metadata": {},
   "outputs": [],
   "source": [
    "model = RandomForestClassifier()"
   ]
  },
  {
   "cell_type": "code",
   "execution_count": 22,
   "id": "5bbc0c2d",
   "metadata": {},
   "outputs": [],
   "source": [
    "rf_grid = GridSearchCV(estimator = model, param_grid = random_grid, cv = 3, verbose = 2, n_jobs = 4)"
   ]
  },
  {
   "cell_type": "code",
   "execution_count": 23,
   "id": "db51b478",
   "metadata": {},
   "outputs": [
    {
     "name": "stdout",
     "output_type": "stream",
     "text": [
      "Fitting 3 folds for each of 160 candidates, totalling 480 fits\n"
     ]
    },
    {
     "data": {
      "text/html": [
       "<style>#sk-container-id-1 {color: black;}#sk-container-id-1 pre{padding: 0;}#sk-container-id-1 div.sk-toggleable {background-color: white;}#sk-container-id-1 label.sk-toggleable__label {cursor: pointer;display: block;width: 100%;margin-bottom: 0;padding: 0.3em;box-sizing: border-box;text-align: center;}#sk-container-id-1 label.sk-toggleable__label-arrow:before {content: \"▸\";float: left;margin-right: 0.25em;color: #696969;}#sk-container-id-1 label.sk-toggleable__label-arrow:hover:before {color: black;}#sk-container-id-1 div.sk-estimator:hover label.sk-toggleable__label-arrow:before {color: black;}#sk-container-id-1 div.sk-toggleable__content {max-height: 0;max-width: 0;overflow: hidden;text-align: left;background-color: #f0f8ff;}#sk-container-id-1 div.sk-toggleable__content pre {margin: 0.2em;color: black;border-radius: 0.25em;background-color: #f0f8ff;}#sk-container-id-1 input.sk-toggleable__control:checked~div.sk-toggleable__content {max-height: 200px;max-width: 100%;overflow: auto;}#sk-container-id-1 input.sk-toggleable__control:checked~label.sk-toggleable__label-arrow:before {content: \"▾\";}#sk-container-id-1 div.sk-estimator input.sk-toggleable__control:checked~label.sk-toggleable__label {background-color: #d4ebff;}#sk-container-id-1 div.sk-label input.sk-toggleable__control:checked~label.sk-toggleable__label {background-color: #d4ebff;}#sk-container-id-1 input.sk-hidden--visually {border: 0;clip: rect(1px 1px 1px 1px);clip: rect(1px, 1px, 1px, 1px);height: 1px;margin: -1px;overflow: hidden;padding: 0;position: absolute;width: 1px;}#sk-container-id-1 div.sk-estimator {font-family: monospace;background-color: #f0f8ff;border: 1px dotted black;border-radius: 0.25em;box-sizing: border-box;margin-bottom: 0.5em;}#sk-container-id-1 div.sk-estimator:hover {background-color: #d4ebff;}#sk-container-id-1 div.sk-parallel-item::after {content: \"\";width: 100%;border-bottom: 1px solid gray;flex-grow: 1;}#sk-container-id-1 div.sk-label:hover label.sk-toggleable__label {background-color: #d4ebff;}#sk-container-id-1 div.sk-serial::before {content: \"\";position: absolute;border-left: 1px solid gray;box-sizing: border-box;top: 0;bottom: 0;left: 50%;z-index: 0;}#sk-container-id-1 div.sk-serial {display: flex;flex-direction: column;align-items: center;background-color: white;padding-right: 0.2em;padding-left: 0.2em;position: relative;}#sk-container-id-1 div.sk-item {position: relative;z-index: 1;}#sk-container-id-1 div.sk-parallel {display: flex;align-items: stretch;justify-content: center;background-color: white;position: relative;}#sk-container-id-1 div.sk-item::before, #sk-container-id-1 div.sk-parallel-item::before {content: \"\";position: absolute;border-left: 1px solid gray;box-sizing: border-box;top: 0;bottom: 0;left: 50%;z-index: -1;}#sk-container-id-1 div.sk-parallel-item {display: flex;flex-direction: column;z-index: 1;position: relative;background-color: white;}#sk-container-id-1 div.sk-parallel-item:first-child::after {align-self: flex-end;width: 50%;}#sk-container-id-1 div.sk-parallel-item:last-child::after {align-self: flex-start;width: 50%;}#sk-container-id-1 div.sk-parallel-item:only-child::after {width: 0;}#sk-container-id-1 div.sk-dashed-wrapped {border: 1px dashed gray;margin: 0 0.4em 0.5em 0.4em;box-sizing: border-box;padding-bottom: 0.4em;background-color: white;}#sk-container-id-1 div.sk-label label {font-family: monospace;font-weight: bold;display: inline-block;line-height: 1.2em;}#sk-container-id-1 div.sk-label-container {text-align: center;}#sk-container-id-1 div.sk-container {/* jupyter's `normalize.less` sets `[hidden] { display: none; }` but bootstrap.min.css set `[hidden] { display: none !important; }` so we also need the `!important` here to be able to override the default hidden behavior on the sphinx rendered scikit-learn.org. See: https://github.com/scikit-learn/scikit-learn/issues/21755 */display: inline-block !important;position: relative;}#sk-container-id-1 div.sk-text-repr-fallback {display: none;}</style><div id=\"sk-container-id-1\" class=\"sk-top-container\"><div class=\"sk-text-repr-fallback\"><pre>GridSearchCV(cv=3, estimator=RandomForestClassifier(), n_jobs=4,\n",
       "             param_grid={&#x27;bootstrap&#x27;: [True, False], &#x27;max_depth&#x27;: [2, 4],\n",
       "                         &#x27;max_features&#x27;: [&#x27;sqrt&#x27;], &#x27;min_samples_leaf&#x27;: [10, 20],\n",
       "                         &#x27;min_samples_split&#x27;: [20, 50],\n",
       "                         &#x27;n_estimators&#x27;: [10, 17, 25, 33, 41, 48, 56, 64, 72,\n",
       "                                          80]},\n",
       "             verbose=2)</pre><b>In a Jupyter environment, please rerun this cell to show the HTML representation or trust the notebook. <br />On GitHub, the HTML representation is unable to render, please try loading this page with nbviewer.org.</b></div><div class=\"sk-container\" hidden><div class=\"sk-item sk-dashed-wrapped\"><div class=\"sk-label-container\"><div class=\"sk-label sk-toggleable\"><input class=\"sk-toggleable__control sk-hidden--visually\" id=\"sk-estimator-id-1\" type=\"checkbox\" ><label for=\"sk-estimator-id-1\" class=\"sk-toggleable__label sk-toggleable__label-arrow\">GridSearchCV</label><div class=\"sk-toggleable__content\"><pre>GridSearchCV(cv=3, estimator=RandomForestClassifier(), n_jobs=4,\n",
       "             param_grid={&#x27;bootstrap&#x27;: [True, False], &#x27;max_depth&#x27;: [2, 4],\n",
       "                         &#x27;max_features&#x27;: [&#x27;sqrt&#x27;], &#x27;min_samples_leaf&#x27;: [10, 20],\n",
       "                         &#x27;min_samples_split&#x27;: [20, 50],\n",
       "                         &#x27;n_estimators&#x27;: [10, 17, 25, 33, 41, 48, 56, 64, 72,\n",
       "                                          80]},\n",
       "             verbose=2)</pre></div></div></div><div class=\"sk-parallel\"><div class=\"sk-parallel-item\"><div class=\"sk-item\"><div class=\"sk-label-container\"><div class=\"sk-label sk-toggleable\"><input class=\"sk-toggleable__control sk-hidden--visually\" id=\"sk-estimator-id-2\" type=\"checkbox\" ><label for=\"sk-estimator-id-2\" class=\"sk-toggleable__label sk-toggleable__label-arrow\">estimator: RandomForestClassifier</label><div class=\"sk-toggleable__content\"><pre>RandomForestClassifier()</pre></div></div></div><div class=\"sk-serial\"><div class=\"sk-item\"><div class=\"sk-estimator sk-toggleable\"><input class=\"sk-toggleable__control sk-hidden--visually\" id=\"sk-estimator-id-3\" type=\"checkbox\" ><label for=\"sk-estimator-id-3\" class=\"sk-toggleable__label sk-toggleable__label-arrow\">RandomForestClassifier</label><div class=\"sk-toggleable__content\"><pre>RandomForestClassifier()</pre></div></div></div></div></div></div></div></div></div></div>"
      ],
      "text/plain": [
       "GridSearchCV(cv=3, estimator=RandomForestClassifier(), n_jobs=4,\n",
       "             param_grid={'bootstrap': [True, False], 'max_depth': [2, 4],\n",
       "                         'max_features': ['sqrt'], 'min_samples_leaf': [10, 20],\n",
       "                         'min_samples_split': [20, 50],\n",
       "                         'n_estimators': [10, 17, 25, 33, 41, 48, 56, 64, 72,\n",
       "                                          80]},\n",
       "             verbose=2)"
      ]
     },
     "execution_count": 23,
     "metadata": {},
     "output_type": "execute_result"
    }
   ],
   "source": [
    "rf_grid.fit(X_train, y_train)"
   ]
  },
  {
   "cell_type": "code",
   "execution_count": 24,
   "id": "a1cdfbc3",
   "metadata": {},
   "outputs": [
    {
     "data": {
      "text/plain": [
       "{'bootstrap': True,\n",
       " 'max_depth': 4,\n",
       " 'max_features': 'sqrt',\n",
       " 'min_samples_leaf': 10,\n",
       " 'min_samples_split': 50,\n",
       " 'n_estimators': 25}"
      ]
     },
     "execution_count": 24,
     "metadata": {},
     "output_type": "execute_result"
    }
   ],
   "source": [
    "rf_grid.best_params_"
   ]
  },
  {
   "cell_type": "code",
   "execution_count": 25,
   "id": "34544698",
   "metadata": {},
   "outputs": [
    {
     "name": "stdout",
     "output_type": "stream",
     "text": [
      "Train Accuracy - : 0.356743\n",
      "Test Accuracy - : 0.348690\n"
     ]
    }
   ],
   "source": [
    "# Make predictions on the training set\n",
    "y_train_pred = rf_grid.predict(X_train)\n",
    "\n",
    "# Make predictions on the validation/test set\n",
    "y_test_pred = rf_grid.predict(X_test)\n",
    "\n",
    "# Calculate the accuracy on the training and validation/test sets\n",
    "train_accuracy = accuracy_score(y_train, y_train_pred)\n",
    "val_accuracy = accuracy_score(y_test, y_test_pred)\n",
    "print(f'Train Accuracy - : {train_accuracy:f}')\n",
    "print(f'Test Accuracy - : {val_accuracy:f}')"
   ]
  },
  {
   "cell_type": "code",
   "execution_count": 26,
   "id": "5a68527a",
   "metadata": {},
   "outputs": [
    {
     "name": "stdout",
     "output_type": "stream",
     "text": [
      "MAE (Random Forest): 0.9548753550015778\n",
      "Accuracy Score: 0.34869043862417165\n"
     ]
    }
   ],
   "source": [
    "rf_preds = rf_grid.predict(X_test)\n",
    "print(\"MAE (Random Forest): \" + str(mean_absolute_error(y_test, rf_preds)))\n",
    "acc_score = accuracy_score(y_test, rf_preds)\n",
    "print(\"Accuracy Score: \" + str(acc_score))"
   ]
  },
  {
   "cell_type": "code",
   "execution_count": 149,
   "id": "94ab1f9d",
   "metadata": {},
   "outputs": [],
   "source": [
    "model_filename = 'model_file.p'\n",
    "model_path = os.path.join('Random_forest_saved_model', model_filename)\n",
    "\n",
    "# Save the model to the specified path\n",
    "with open(model_path, 'wb') as model_file:\n",
    "    pickle.dump(rf_grid, model_file)"
   ]
  },
  {
   "cell_type": "code",
   "execution_count": 30,
   "id": "5e6d7d2b",
   "metadata": {},
   "outputs": [],
   "source": [
    "y1 = df['congestion_level']\n",
    "X1 = df[['arrival_hour', 'arrival_minute', 'stop_lat', 'stop_lon', 'next_lat', 'next_lon', 'direction_id']]"
   ]
  },
  {
   "cell_type": "code",
   "execution_count": 31,
   "id": "729f4675",
   "metadata": {},
   "outputs": [],
   "source": [
    "from sklearn.model_selection import KFold\n",
    "import matplotlib.pyplot as plt\n",
    "def test_model(model, X, y):\n",
    "    kf = KFold(n_splits=4)\n",
    "    mae_train = []\n",
    "    mae_test = []\n",
    "    for train_index, test_index in kf.split(X):\n",
    "    \n",
    "        X_train, X_test = X.iloc[train_index], X.iloc[test_index]\n",
    "        y_train, y_test = y[train_index], y[test_index]\n",
    "        \n",
    "        model.fit(X_train, y_train)\n",
    "        y_train_pred = model.predict(X_train)\n",
    "        y_test_pred = model.predict(X_test)\n",
    "        mae_train.append(mean_absolute_error(y_train, y_train_pred))\n",
    "        mae_test.append(mean_absolute_error(y_test, y_test_pred))\n",
    "\n",
    "    folds = range(1, kf.get_n_splits() + 1)\n",
    "    plt.plot(folds, mae_train, 'o-', color='green', label='train')\n",
    "    plt.plot(folds, mae_test, 'o-', color='red', label='test')\n",
    "    plt.legend()\n",
    "    plt.grid()\n",
    "    plt.xlabel('Number of fold')\n",
    "    plt.ylabel('Mean Absolute Error')\n",
    "    plt.show()"
   ]
  },
  {
   "cell_type": "code",
   "execution_count": 32,
   "id": "2fc51181",
   "metadata": {},
   "outputs": [
    {
     "name": "stdout",
     "output_type": "stream",
     "text": [
      "Fitting 3 folds for each of 160 candidates, totalling 480 fits\n",
      "Fitting 3 folds for each of 160 candidates, totalling 480 fits\n",
      "Fitting 3 folds for each of 160 candidates, totalling 480 fits\n",
      "Fitting 3 folds for each of 160 candidates, totalling 480 fits\n"
     ]
    },
    {
     "data": {
      "image/png": "[encoded data removed]",
      "text/plain": [
       "<Figure size 640x480 with 1 Axes>"
      ]
     },
     "metadata": {},
     "output_type": "display_data"
    }
   ],
   "source": [
    "test_model(rf_grid, X1,y1)"
   ]
  },
  {
   "cell_type": "code",
   "execution_count": 33,
   "id": "b7cb94b9",
   "metadata": {},
   "outputs": [],
   "source": [
    "from sklearn.metrics import classification_report, accuracy_score, mean_absolute_error\n",
    "def generate_model_report(model, X_train, y_train, X_test, y_test):\n",
    "    # Train the model\n",
    "    model.fit(X_train, y_train)\n",
    "    \n",
    "    # Make predictions on the training and testing data\n",
    "    y_train_pred = model.predict(X_train)\n",
    "    y_test_pred = model.predict(X_test)\n",
    "\n",
    "    # Calculate accuracy scores\n",
    "    train_accuracy = accuracy_score(y_train, y_train_pred)\n",
    "    test_accuracy = accuracy_score(y_test, y_test_pred)\n",
    "\n",
    "    # Calculate MAE\n",
    "    train_mae = mean_absolute_error(y_train, y_train_pred)\n",
    "    test_mae = mean_absolute_error(y_test, y_test_pred)\n",
    "\n",
    "    # Generate classification report for classification models\n",
    "    if hasattr(model, 'predict_proba'):\n",
    "        y_train_pred_proba = model.predict_proba(X_train)\n",
    "        y_test_pred_proba = model.predict_proba(X_test)\n",
    "    else:\n",
    "        y_train_pred_proba = None\n",
    "        y_test_pred_proba = None\n",
    "\n",
    "    # Classification report for classification models\n",
    "    if y_train_pred_proba is not None:\n",
    "        class_names = list(map(str, model.classes_))\n",
    "        train_classification_report = classification_report(y_train, y_train_pred, target_names=class_names)\n",
    "        test_classification_report = classification_report(y_test, y_test_pred, target_names=class_names)\n",
    "    else:\n",
    "        train_classification_report = None\n",
    "        test_classification_report = None\n",
    "\n",
    "    # Display the model performance metrics\n",
    "    print(\"Train Accuracy: {:.4f}\".format(train_accuracy))\n",
    "    print(\"Test Accuracy: {:.4f}\".format(test_accuracy))\n",
    "    print(\"Train MAE: {:.4f}\".format(train_mae))\n",
    "    print(\"Test MAE: {:.4f}\".format(test_mae))\n",
    "    \n",
    "    # Display classification report for classification models\n",
    "    if train_classification_report:\n",
    "        print(\"Classification Report (Training Data):\\n\", train_classification_report)\n",
    "        print(\"Classification Report (Testing Data):\\n\", test_classification_report)"
   ]
  },
  {
   "cell_type": "code",
   "execution_count": 127,
   "id": "0742ac14",
   "metadata": {},
   "outputs": [
    {
     "name": "stdout",
     "output_type": "stream",
     "text": [
      "Fitting 3 folds for each of 160 candidates, totalling 480 fits\n",
      "Train Accuracy: 0.9619\n",
      "Test Accuracy: 0.9607\n",
      "Train MAE: 0.0383\n",
      "Test MAE: 0.0398\n",
      "Classification Report (Training Data):\n",
      "               precision    recall  f1-score   support\n",
      "\n",
      "           0       0.99      0.97      0.98      4460\n",
      "           1       0.98      0.91      0.94      5744\n",
      "           2       0.97      0.96      0.96     13473\n",
      "           3       0.92      0.98      0.95      8269\n",
      "           4       0.98      0.98      0.98      8261\n",
      "\n",
      "    accuracy                           0.96     40207\n",
      "   macro avg       0.97      0.96      0.96     40207\n",
      "weighted avg       0.96      0.96      0.96     40207\n",
      "\n",
      "Classification Report (Testing Data):\n",
      "               precision    recall  f1-score   support\n",
      "\n",
      "           0       0.98      0.97      0.98      1135\n",
      "           1       0.97      0.91      0.94      1414\n",
      "           2       0.97      0.96      0.96      3402\n",
      "           3       0.92      0.98      0.95      2064\n",
      "           4       0.98      0.97      0.98      2037\n",
      "\n",
      "    accuracy                           0.96     10052\n",
      "   macro avg       0.96      0.96      0.96     10052\n",
      "weighted avg       0.96      0.96      0.96     10052\n",
      "\n"
     ]
    },
    {
     "data": {
      "image/png": "[encoded data removed]",
      "text/plain": [
       "<Figure size 800x400 with 1 Axes>"
      ]
     },
     "metadata": {},
     "output_type": "display_data"
    }
   ],
   "source": [
    "generate_model_report(rf_grid, X_train, y_train, X_test, y_test)"
   ]
  },
  {
   "cell_type": "code",
   "execution_count": null,
   "id": "ea91512d",
   "metadata": {},
   "outputs": [],
   "source": []
  }
 ],
 "metadata": {
  "kernelspec": {
   "display_name": "Python 3 (ipykernel)",
   "language": "python",
   "name": "python3"
  },
  "language_info": {
   "codemirror_mode": {
    "name": "ipython",
    "version": 3
   },
   "file_extension": ".py",
   "mimetype": "text/x-python",
   "name": "python",
   "nbconvert_exporter": "python",
   "pygments_lexer": "ipython3",
   "version": "3.10.2"
  }
 },
 "nbformat": 4,
 "nbformat_minor": 5
}
